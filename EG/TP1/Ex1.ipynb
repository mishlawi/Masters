{
 "cells": [
  {
   "cell_type": "markdown",
   "metadata": {},
   "source": [
    "# Exercicio 1"
   ]
  },
  {
   "cell_type": "markdown",
   "metadata": {},
   "source": [
    "O mecanismo *AEAD* procura garantir a autenticação tanto do texto cifrar como o texto a ser cifrado. \n",
    "As *tweakable primitive block ciphers* têm dois parâmetros de controlo, a chave em si e um *tweak*, que vai variando.\n"
   ]
  },
  {
   "cell_type": "markdown",
   "metadata": {},
   "source": [
    "O primeiro passo para a resolução deste exercicio passou por desenvolvermos o ambiente de comunicação assíncrona.<br> \n",
    "> De modo a se obter um contexto de envio e receção de mensagens, desenvolvemos:\n",
    "* Um Emitter\n",
    "* Um Receiver\n",
    "\n"
   ]
  },
  {
   "cell_type": "markdown",
   "metadata": {},
   "source": [
    "##### Cada um destes foi desenvolvido tendo em conta a necessidade da implementação dos diferentes acordos de chaves."
   ]
  },
  {
   "cell_type": "code",
   "execution_count": 1,
   "metadata": {},
   "outputs": [
    {
     "name": "stdout",
     "output_type": "stream",
     "text": [
      "\u001b[33mDEPRECATION: Configuring installation scheme with distutils config files is deprecated and will no longer work in the near future. If you are using a Homebrew or Linuxbrew Python, please see discussion at https://github.com/Homebrew/homebrew-core/issues/76621\u001b[0m\u001b[33m\n",
      "\u001b[0mRequirement already satisfied: cryptography in /opt/homebrew/lib/python3.9/site-packages (36.0.1)\n",
      "Requirement already satisfied: cffi>=1.12 in /opt/homebrew/lib/python3.9/site-packages (from cryptography) (1.15.0)\n",
      "Requirement already satisfied: pycparser in /opt/homebrew/lib/python3.9/site-packages (from cffi>=1.12->cryptography) (2.21)\n",
      "\u001b[33mDEPRECATION: Configuring installation scheme with distutils config files is deprecated and will no longer work in the near future. If you are using a Homebrew or Linuxbrew Python, please see discussion at https://github.com/Homebrew/homebrew-core/issues/76621\u001b[0m\u001b[33m\n",
      "\u001b[0mNote: you may need to restart the kernel to use updated packages.\n"
     ]
    }
   ],
   "source": [
    "%pip install cryptography"
   ]
  },
  {
   "cell_type": "code",
   "execution_count": 2,
   "metadata": {},
   "outputs": [],
   "source": [
    "import os\n",
    "from cryptography.hazmat.primitives.kdf.hkdf import HKDF\n",
    "from cryptography.hazmat.primitives.ciphers import Cipher, algorithms\n",
    "from cryptography.hazmat.primitives import hmac, hashes\n",
    "from cryptography.hazmat.primitives import padding\n",
    "from cryptography.hazmat.primitives.asymmetric.x448 import X448PrivateKey\n",
    "from cryptography.hazmat.primitives.asymmetric.ed448 import Ed448PrivateKey\n",
    "from cryptography.hazmat.backends import default_backend\n"
   ]
  },
  {
   "cell_type": "markdown",
   "metadata": {},
   "source": [
    "\n",
    "O Emitter, sendo o interveniente que envia a mensagem, vai ter diferentes atributos correlacionados com a cifragem por blocos usando *tweaks* mas também com as diferentes chaves e assinaturas usadas na autenticação.   "
   ]
  },
  {
   "cell_type": "code",
   "execution_count": 3,
   "metadata": {},
   "outputs": [],
   "source": [
    "BLOCK = 8   \n",
    "\n",
    "class emitter:\n",
    "\n",
    "    # ATTRIBUTES\n",
    "\n",
    "    tweak=b\"\" # the tweak\n",
    "    message = b\"Bom dia\" # the message to be transmited\n",
    "    mac = b\"\"\n",
    "\n",
    "    X448_private_key = b\"\"\n",
    "    X448_public_key = b\"\"\n",
    "    X448_shared_key = b\"\"\n",
    "\n",
    "    assinatura = b\"Signing Message\" # assinatura\n",
    "    Ed448_private_key = b\"\"\n",
    "    Ed448_public_key = b\"\"\n",
    "    signature = b\"\" # the encoded signature after mixing it up with the private key\n",
    "\n",
    "\n",
    "    ck = b\"\" # full key aka the one who will cipher\n",
    "\n"
   ]
  },
  {
   "cell_type": "markdown",
   "metadata": {},
   "source": [
    "* Geração das chaves privadas e públicas e da assinatura utilizadas no esquema de assinatura da curva elíptica de Edwards -  ED448"
   ]
  },
  {
   "cell_type": "code",
   "execution_count": 4,
   "metadata": {},
   "outputs": [],
   "source": [
    "  \n",
    "    # geracao da chave privada \n",
    "    def ed448privateKeygen(self):\n",
    "        self.Ed448_private_key = Ed448PrivateKey.generate()\n",
    "    \n",
    "    # geracao da chave publica a partir da chave privada \n",
    "    def ed448publicKeygen(self):\n",
    "        self.Ed448_public_key = self.Ed448_private_key.public_key()\n",
    "\n",
    " # assinatura é gerada a partir mensagem de assinatura sendo depois definida a partir da chave privada\n",
    "    def ed448signatureGen(self):\n",
    "        self.signature = self.Ed448_private_key.sign(self.assinatura)\n",
    "    "
   ]
  },
  {
   "cell_type": "markdown",
   "metadata": {},
   "source": [
    "* Geração da chave privada, pública e partilhada utilizada na autenticação por troca de chaves X448.\n",
    "* A chave partilhada é gerada com o auxílio de uma KDF!"
   ]
  },
  {
   "cell_type": "code",
   "execution_count": 5,
   "metadata": {},
   "outputs": [],
   "source": [
    "\n",
    "    # geracao da chave privada\n",
    "    def privateKeyGenX448(self):\n",
    "        self.X448_private_key = X448PrivateKey.generate()\n",
    "    \n",
    "    # geracao da chave publica do emitter\n",
    "    def publicKeyGenX448(self):\n",
    "        self.X448_public_key = self.X448_private_key.public_key()\n",
    "\n",
    "    # geracao da chave partilhada a partir da derivaçao da chave publica do outro peer\n",
    "    def sharedKeyGenX448(self, peerPublickey): # esta public key é referente ao outro peer da comunicacao\n",
    "        key = self.X448_private_key.exchange(peerPublickey)\n",
    "        \n",
    "        self.X448_shared_key = HKDF(\n",
    "            algorithm=hashes.SHA256(),\n",
    "            length=32,\n",
    "            salt=None,\n",
    "            info=b'handshake assinatura',\n",
    "        ).derive(key)\n",
    "\n"
   ]
  },
  {
   "cell_type": "markdown",
   "metadata": {},
   "source": [
    "De modo a verificar o acordo entre chaves é necessário cifrar a chave de forma a que a mesma não possa ser verificada por terceiros, apenas pelo **receiver**. Para isso definiu-se o **key_agree** que é cifrada usando o algoritmo *ChaCha20* ao qual se adiciona um nonce de 16bits"
   ]
  },
  {
   "cell_type": "code",
   "execution_count": 6,
   "metadata": {},
   "outputs": [],
   "source": [
    "\n",
    "    def key_agree(self):\n",
    "        \n",
    "        nonce = os.urandom(16)\n",
    "        algorithm = algorithms.ChaCha20(self.X448_shared_key, nonce)\n",
    "        cifrador = Cipher(algorithm, mode=None).encryptor()\n",
    "        ct = nonce + cifrador.update(self.X448_shared_key) \n",
    "        return ct\n",
    "\n",
    "    "
   ]
  },
  {
   "cell_type": "markdown",
   "metadata": {},
   "source": [
    "Após isso resta apenas definir o processo de padding e o respetivo processo de cifragem por blocos, extremamente similar ao que foi feito no anterior trabalho prático."
   ]
  },
  {
   "cell_type": "code",
   "execution_count": 7,
   "metadata": {},
   "outputs": [],
   "source": [
    "    def pad_divide(self,message):\n",
    "        x = []\n",
    "        for i in range (0,len(message), BLOCK):\n",
    "            x.append(message[i:i+BLOCK])\n",
    "        return x\n",
    "\n",
    "\n",
    "    def cipher(self):\n",
    "        ciphertext = b''\n",
    "\n",
    "        padder = padding.PKCS7(64).padder()\n",
    "        padded = padder.update(self.message) + padder.finalize()\n",
    "\n",
    "        p = self.pad_divide(padded)\n",
    "        for x in range (len(p)): # Percorre blocos do texto limpo\n",
    "            for bloco, byte in enumerate(p[x]): # Percorre bytes do bloco do texto limpo\n",
    "                ciphertext += bytes([byte ^ self.ck[x:(x+1)*BLOCK][bloco]]) # xor of 2 bit sequences plain text and cipher_key\n",
    "\n",
    "        \n",
    "        \n",
    "        h = hmac.HMAC(self.ck, hashes.SHA256()) \n",
    "        h.update(ciphertext)\n",
    "        self.mac = h.finalize()\n",
    "        \n",
    "\n",
    "        complete_ct = self.mac + ciphertext \n",
    "\n",
    "        return complete_ct"
   ]
  },
  {
   "cell_type": "markdown",
   "metadata": {},
   "source": [
    "Apresenta-se de seguida o Receiver, que vai receber a mensagem enviada pelo Emitter."
   ]
  },
  {
   "cell_type": "code",
   "execution_count": 8,
   "metadata": {},
   "outputs": [],
   "source": [
    "class receiver:\n",
    "\n",
    "    X448_private_key = b\"\"\n",
    "    X448_public_key = b\"\"\n",
    "    X448_shared_key = b\"\"\n",
    "    \n",
    "    tweak = b\"\"\n",
    "    ck = b\"\"  \n",
    "\n",
    "    assinatura = b\"Signing Message\"    \n"
   ]
  },
  {
   "cell_type": "markdown",
   "metadata": {},
   "source": [
    "* Geração da chave privada, pública e partilhada utilizada na autenticação por troca de chaves X448.\n",
    "* A chave partilhada é gerada com o auxílio de uma KDF!"
   ]
  },
  {
   "cell_type": "code",
   "execution_count": 9,
   "metadata": {},
   "outputs": [],
   "source": [
    "\n",
    "    def privateKeyGenX448(self):\n",
    "        self.X448_private_key = X448PrivateKey.generate()\n",
    "    \n",
    "    def publicKeyGenX448(self):\n",
    "        self.X448_public_key = self.X448_private_key.public_key()\n",
    "\n",
    "    def sharedKeyGenX448(self, X448_emitter_public_key):\n",
    "        key = self.X448_private_key.exchange(X448_emitter_public_key)\n",
    "\n",
    "        self.X448_shared_key = HKDF(\n",
    "            algorithm=hashes.SHA256(),\n",
    "            length=32,\n",
    "            salt=None,\n",
    "            info=b'handshake assinatura',\n",
    "        ).derive(key)\n"
   ]
  },
  {
   "cell_type": "markdown",
   "metadata": {},
   "source": [
    "O receiver recebe a chave pública do emitter e a mensagem de assinatura e a partir dela deve confirmar que corresponde à assinatura que "
   ]
  },
  {
   "cell_type": "code",
   "execution_count": 10,
   "metadata": {},
   "outputs": [],
   "source": [
    "\n",
    "    def check_Ed448_signature(self, assinatura, public_key):\n",
    "        try:\n",
    "            public_key.verify(assinatura, self.assinatura)\n",
    "            print(\"Sucesso na autenticação da assinatura da curva eliptica de EDWARDS - ed448\")\n",
    "        except cryptography.exceptions.InvalidSignature:\n",
    "            print(\"Erro na autenticação da assinatura da curva eliptica de EDWARDS - ed448\")"
   ]
  },
  {
   "cell_type": "markdown",
   "metadata": {},
   "source": [
    "De forma a verificar a chave cifrada da key exchange X448 produzida pelo Emitter definiu-se a seguinte funcao que indica se as chaves realmente correspondem."
   ]
  },
  {
   "cell_type": "code",
   "execution_count": 11,
   "metadata": {},
   "outputs": [],
   "source": [
    "\n",
    "    def confirm_key_agreement(self, ct):\n",
    "        \n",
    "        nonce = ct[:16]\n",
    "        key = ct[16:]   \n",
    "\n",
    "        algorithm = algorithms.ChaCha20(self.X448_shared_key, nonce)\n",
    "        cipher = Cipher(algorithm, mode=None)\n",
    "\n",
    "        decifrador = cipher.decryptor()\n",
    "        key = decifrador.update(key)\n",
    "\n",
    "        if key == self.X448_shared_key:\n",
    "            print(\"CONFIRMAÇÃO POSITIVA DA VERIFICAÇÃO DO X448 KEY EXCHANGE\")\n",
    "        else:\n",
    "            print(\"verificacao negativa DO X448 KEY EXCHANGE\")\n",
    "\n",
    "        return"
   ]
  },
  {
   "cell_type": "markdown",
   "metadata": {},
   "source": [
    "O processo de decifragem é analogo ao de cifragem. Será explicado em detalhe mais à frente"
   ]
  },
  {
   "cell_type": "code",
   "execution_count": 12,
   "metadata": {},
   "outputs": [],
   "source": [
    "    def verify_Auth(self, ck,message, signature):\n",
    "        h = hmac.HMAC(ck, hashes.SHA256())\n",
    "\n",
    "        h.update(message)\n",
    "\n",
    "        try: \n",
    "            h.verify(signature)\n",
    "            return True\n",
    "        except:\n",
    "            return False\n",
    "\n",
    "    def decipher(self, ciphertext,receiver):\n",
    "        \n",
    "        complete_key = receiver.ck\n",
    "        signature = ciphertext[:32]\n",
    "        ct = ciphertext[32:]\n",
    "\n",
    "\n",
    "        if self.verify_Auth(complete_key, ct, signature):\n",
    "            print(\"Autenticação do criptograma\")\n",
    "        else:\n",
    "            print(\"Falha na autenticação do criptograma!\")\n",
    "            \n",
    "    \n",
    "        clear_text = b''\n",
    "            \n",
    "        # XOR METODO\n",
    "        for x in range (0,len(ct),8):\n",
    "            b = ct[x:x+8]\n",
    "            for index, byte in enumerate(b):   \n",
    "                clear_text += bytes([byte ^ self.ck[x*8:(x+1)*8][index]])\n",
    "\n",
    "        # Algoritmo para retirar padding para decifragem\n",
    "        unpadder = padding.PKCS7(64).unpadder()\n",
    "\n",
    "        # Retira bytes adicionados \n",
    "        unpadded_message = unpadder.update(clear_text) + unpadder.finalize()\n",
    "\n",
    "        print(unpadded_message.decode(\"UTF-8\"))"
   ]
  },
  {
   "cell_type": "markdown",
   "metadata": {},
   "source": [
    "De forma a se poder compilar a exemplificação, fica aqui todo o código disposto.\n"
   ]
  },
  {
   "cell_type": "code",
   "execution_count": 13,
   "metadata": {},
   "outputs": [],
   "source": [
    "BLOCK = 8\n",
    "\n",
    "class emitter:\n",
    "\n",
    "    # ATTRIBUTES\n",
    "\n",
    "    tweak=b\"\" # the tweak\n",
    "    message = b\"Bom dia\" # the message to be transmited\n",
    "    mac = b\"\"\n",
    "\n",
    "    X448_private_key = b\"\"\n",
    "    X448_public_key = b\"\"\n",
    "    X448_shared_key = b\"\"\n",
    "\n",
    "    assinatura = b\"Signing Message\" # assinatura\n",
    "    Ed448_private_key = b\"\"\n",
    "    Ed448_public_key = b\"\"\n",
    "    signature = b\"\" # the encoded signature after mixing it up with the private key\n",
    "\n",
    "\n",
    "    ck = b\"\" # full key aka the one who will cipher\n",
    "\n",
    "\n",
    "    # assinatura é gerada a partir mensagem de assinatura sendo depois definida a partir da chave privada\n",
    "    def ed448signatureGen(self):\n",
    "        self.signature = self.Ed448_private_key.sign(self.assinatura)\n",
    "    \n",
    "    # geracao da chave privada \n",
    "    def ed448privateKeygen(self):\n",
    "        self.Ed448_private_key = Ed448PrivateKey.generate()\n",
    "    \n",
    "    # geracao da chave publica a partir da chave privada \n",
    "    def ed448publicKeygen(self):\n",
    "        self.Ed448_public_key = self.Ed448_private_key.public_key()\n",
    "\n",
    "\n",
    "    # x448\n",
    "\n",
    "    # geracao da chave privada\n",
    "    def privateKeyGenX448(self):\n",
    "        # Generate a private key for use in the exchange.\n",
    "        self.X448_private_key = X448PrivateKey.generate()\n",
    "    \n",
    "    # geracao da chave publica do emitter\n",
    "    def publicKeyGenX448(self):\n",
    "        self.X448_public_key = self.X448_private_key.public_key()\n",
    "\n",
    "    # geracao da chave partilhada a partir da derivaçao da chave publica do outro peer\n",
    "    def sharedKeyGenX448(self, peerPublickey): # esta public key é referente ao outro peer da comunicacao\n",
    "        key = self.X448_private_key.exchange(peerPublickey)\n",
    "        \n",
    "        self.X448_shared_key = HKDF(\n",
    "            algorithm=hashes.SHA256(),\n",
    "            length=32,\n",
    "            salt=None,\n",
    "            info=b'handshake assinatura',\n",
    "        ).derive(key)\n",
    "\n",
    "\n",
    "    def key_agree(self):\n",
    "        \n",
    "        nonce = os.urandom(16)\n",
    "        algorithm = algorithms.ChaCha20(self.X448_shared_key, nonce)\n",
    "        cifrador = Cipher(algorithm, mode=None).encryptor()\n",
    "        ct = nonce + cifrador.update(self.X448_shared_key) \n",
    "        return ct\n",
    "\n",
    "    \n",
    "    def pad_divide(self,message):\n",
    "        x = []\n",
    "        for i in range (0,len(message), BLOCK):\n",
    "            x.append(message[i:i+BLOCK])\n",
    "        return x\n",
    "\n",
    "\n",
    "    def cipher(self):\n",
    "        ciphertext = b''\n",
    "\n",
    "        padder = padding.PKCS7(64).padder()\n",
    "        padded = padder.update(self.message) + padder.finalize()\n",
    "\n",
    "        p = self.pad_divide(padded)\n",
    "        for x in range (len(p)): # Percorre blocos do texto limpo\n",
    "            for bloco, byte in enumerate(p[x]): # Percorre bytes do bloco do texto limpo\n",
    "                ciphertext += bytes([byte ^ self.ck[x:(x+1)*BLOCK][bloco]]) # xor of 2 bit sequences plain text and cipher_key\n",
    "\n",
    "        \n",
    "        \n",
    "        h = hmac.HMAC(self.ck, hashes.SHA256()) \n",
    "        h.update(ciphertext)\n",
    "        self.mac = h.finalize()\n",
    "\n",
    "        return  self.mac + ciphertext \n",
    "\n"
   ]
  },
  {
   "cell_type": "code",
   "execution_count": 14,
   "metadata": {},
   "outputs": [],
   "source": [
    "class receiver:\n",
    "\n",
    "    X448_private_key = b\"\"\n",
    "    X448_public_key = b\"\"\n",
    "    X448_shared_key = b\"\"\n",
    "    \n",
    "    tweak = b\"\"\n",
    "    ck = b\"\"  # complete key aka the one who will cipher \n",
    "\n",
    "    assinatura = b\"Signing Message\"    \n",
    "\n",
    "    #acordo de chaves feito com “X448 key exchange” e “Ed448 Signing&Verification” para autenticação  dos agentes\n",
    "\n",
    "\n",
    "    def check_Ed448_signature(self, signature, public_key):\n",
    "        try:\n",
    "            public_key.verify(signature, self.assinatura)\n",
    "            print(\"Sucesso na autenticação ed448\")\n",
    "        except cryptography.exceptions.InvalidSignature:\n",
    "            print(\"Erro na autenticação da assinatura ed448\")\n",
    "\n",
    "\n",
    "    # Generate a private key for use in the exchange.\n",
    "    def privateKeyGenX448(self):\n",
    "        self.X448_private_key = X448PrivateKey.generate()\n",
    "    \n",
    "    def publicKeyGenX448(self):\n",
    "        self.X448_public_key = self.X448_private_key.public_key()\n",
    "\n",
    "    def sharedKeyGenX448(self, X448_emitter_public_key):\n",
    "        key = self.X448_private_key.exchange(X448_emitter_public_key)\n",
    "\n",
    "        self.X448_shared_key = HKDF(\n",
    "            algorithm=hashes.SHA256(),\n",
    "            length=32,\n",
    "            salt=None,\n",
    "            info=b'handshake assinatura',\n",
    "        ).derive(key)\n",
    "\n",
    "\n",
    "    def create_ck(self):\n",
    "\n",
    "        print(\"A criar a chave completa.\")\n",
    "        self.ck = self.X448_shared_key + self.tweak\n",
    "\n",
    "    def confirm_key_agreement(self, ct):\n",
    "        \n",
    "        nonce = ct[:16]\n",
    "        key = ct[16:]   \n",
    "\n",
    "        algorithm = algorithms.ChaCha20(self.X448_shared_key, nonce)\n",
    "        cipher = Cipher(algorithm, mode=None)\n",
    "\n",
    "        decryptor = cipher.decryptor()\n",
    "        d_key = decryptor.update(key)\n",
    "\n",
    "        if d_key == self.X448_shared_key:\n",
    "            print(\"CONFIRMAÇÃO POSITIVA DA VERIFICAÇÃO DO X448 KEY EXCHANGE\")\n",
    "        else:\n",
    "            print(\"verificacao negativa DO X448 KEY EXCHANGE\")\n",
    "\n",
    "        return\n",
    "\n",
    "\n",
    "\n",
    "    def verify_Auth(self, ck,message, signature):\n",
    "        h = hmac.HMAC(ck, hashes.SHA256())\n",
    "\n",
    "        h.update(message)\n",
    "\n",
    "        try: \n",
    "            h.verify(signature)\n",
    "            return True\n",
    "        except:\n",
    "            return False\n",
    "\n",
    "    def decipher(self, ciphertext,receiver):\n",
    "        \n",
    "        complete_key = receiver.ck\n",
    "        signature = ciphertext[:32]\n",
    "        ct = ciphertext[32:]\n",
    "\n",
    "\n",
    "        if self.verify_Auth(complete_key, ct, signature):\n",
    "            print(\"Autenticação do criptograma\")\n",
    "        else:\n",
    "            print(\"Falha na autenticação do criptograma!\")\n",
    "            \n",
    "    \n",
    "        clear_text = b''\n",
    "            \n",
    "        # XOR METODO\n",
    "        for x in range (0,len(ct),8):\n",
    "            b = ct[x:x+8]\n",
    "            for index, byte in enumerate(b):   \n",
    "                clear_text += bytes([byte ^ self.ck[x*8:(x+1)*8][index]])\n",
    "\n",
    "        # Algoritmo para retirar padding para decifragem\n",
    "        unpadder = padding.PKCS7(64).unpadder()\n",
    "\n",
    "        # Retira bytes adicionados \n",
    "        unpadded_message = unpadder.update(clear_text) + unpadder.finalize()\n",
    "\n",
    "        return unpadded_message.decode(\"UTF-8\")"
   ]
  },
  {
   "cell_type": "markdown",
   "metadata": {},
   "source": [
    "Fica aqui todo o processo de autenticação, verificação de assinaturas, e definição da cifragem do texto por via de tweakable block ciphers"
   ]
  },
  {
   "cell_type": "code",
   "execution_count": 15,
   "metadata": {},
   "outputs": [
    {
     "name": "stdout",
     "output_type": "stream",
     "text": [
      "Sucesso na autenticação ed448\n",
      "CONFIRMAÇÃO POSITIVA DA VERIFICAÇÃO DO X448 KEY EXCHANGE\n",
      "Autenticação do criptograma\n",
      "CT:  b'd\\xcfb\\x8d(\\x90?b\\x9c\\xfb#g\\x18L^\\x9f\\xbb\\xac[L\\xab9rM\\x93\\x1b\\xd80\\x05\\xb19T\\x8e;.\\xdc(N\\xedB'\n",
      "PT:  Bom dia\n"
     ]
    }
   ],
   "source": [
    "def ed448_setup(emitter):\n",
    "    emitter.ed448privateKeygen()\n",
    "    emitter.ed448signatureGen()\n",
    "    emitter.ed448publicKeygen()\n",
    "\n",
    "\n",
    "def x448keys(emitter,receiver):\n",
    "    emitter.privateKeyGenX448()\n",
    "    receiver.privateKeyGenX448()\n",
    "    # chaves privadas geradas 1o porque as publicas sao geradas a partir delas\n",
    "    emitter.publicKeyGenX448()\n",
    "    receiver.publicKeyGenX448()\n",
    "\n",
    "def sharedkeygen(emitter,receiver):\n",
    "    emitter.sharedKeyGenX448(receiver.X448_public_key)\n",
    "    receiver.sharedKeyGenX448(emitter.X448_public_key)\n",
    "\n",
    "\n",
    "def tweakgen(key):\n",
    "    \n",
    "    nounce = os.urandom(16)\n",
    "    algorithm = algorithms.ChaCha20(key, nounce)\n",
    "    cipher = Cipher(algorithm, mode=None)\n",
    "    ct = cipher.encryptor()\n",
    "    tweak = ct.update(b\"Tweakable\")\n",
    "    return tweak\n",
    "\n",
    "emitter = emitter()\n",
    "receiver = receiver()\n",
    "ed448_setup(emitter)\n",
    "# Verificação da assinatura\n",
    "receiver.check_Ed448_signature(emitter.signature, emitter.Ed448_public_key)\n",
    "x448keys(emitter,receiver)\n",
    "sharedkeygen(emitter,receiver)\n",
    "\n",
    "# Verificação de se as chaves foram bem acordadas X448\n",
    "keyCT = emitter.key_agree() # key cipher for 2 side agreement\n",
    "receiver.confirm_key_agreement(keyCT)\n",
    "\n",
    "# GERACAO DE TWEAK\n",
    "tweak = tweakgen(emitter.X448_shared_key)\n",
    "emitter.tweak = tweak\n",
    "receiver.tweak = tweak\n",
    "\n",
    "\n",
    "emitter.ck = emitter.X448_shared_key + emitter.tweak\n",
    "receiver.ck = receiver.X448_shared_key + receiver.tweak\n",
    "\n",
    "\n",
    "ciphertext = emitter.cipher()\n",
    "plaintext = receiver.decipher(ciphertext,receiver)\n",
    "\n",
    "print(\"CT: \" , ciphertext)\n",
    "print(\"PT: \", plaintext)"
   ]
  }
 ],
 "metadata": {
  "interpreter": {
   "hash": "b0fa6594d8f4cbf19f97940f81e996739fb7646882a419484c72d19e05852a7e"
  },
  "kernelspec": {
   "display_name": "SageMath 9.0",
   "language": "python",
   "name": "python3"
  },
  "language_info": {
   "codemirror_mode": {
    "name": "ipython",
    "version": 3
   },
   "file_extension": ".py",
   "mimetype": "text/x-python",
   "name": "python",
   "nbconvert_exporter": "python",
   "pygments_lexer": "ipython3",
   "version": "3.9.10"
  }
 },
 "nbformat": 4,
 "nbformat_minor": 4
}
