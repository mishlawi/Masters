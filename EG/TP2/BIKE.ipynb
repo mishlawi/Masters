{
 "cells": [
  {
   "cell_type": "markdown",
   "metadata": {},
   "source": [
    "# Trabalho prático 2\n",
    "\n",
    "**Grupo 5**:\n",
    "* Duarte Oliveira \\<pg47157\\>\n",
    "* Melânia Pereira \\<pg47520\\>\n",
    "\n",
    "### Post-Quantum Cryptography na categoria de criptosistemas PKE-KEM\n",
    "Criação de protótipo em Sagemath de uma técnica representativa da família de criptosistemas pós-quânticos BIKE (“code based”). <br>\n",
    "Pretende-se implementar um KEM, que seja IND-CPA seguro, e um PKE que seja IND-CCA seguro. <br>\n",
    "Para o desenvolvimento destas soluções foram seguidas as especificações dos documentos oficiais que podem ser encontrados [aqui](https://bikesuite.org).\n",
    "\n",
    "#### KEM-IND-CPA\n"
   ]
  },
  {
   "cell_type": "code",
   "execution_count": 38,
   "metadata": {
    "vscode": {
     "languageId": "python"
    }
   },
   "outputs": [],
   "source": [
    "import os\n",
    "from hashlib import shake_256, sha3_384"
   ]
  },
  {
   "cell_type": "code",
   "execution_count": 80,
   "metadata": {
    "vscode": {
     "languageId": "python"
    }
   },
   "outputs": [],
   "source": [
    "class BIKE_KEM(object):\n",
    "    \n",
    "    def __init__(self, timeout=None):\n",
    "        self.r = 12323\n",
    "        self.W = 142\n",
    "        self.T = 134\n",
    "        self.L = 256\n",
    "\n",
    "        self.K2 = GF(2)\n",
    "        # Polynomial Ring in x over Finite Field of size 2\n",
    "        F.<x> = PolynomialRing(self.K2)\n",
    "        # The cyclic polynomial ring F[X]/<X^r + 1>\n",
    "        R.<x> = QuotientRing(F, F.ideal(x^self.r + 1))\n",
    "        self.R = R\n",
    "\n",
    "    \n",
    "    def geraCoef(self, w, r):\n",
    "        #Gera um coeficiente aleatorio em que 1 representam os coefs\n",
    "        coefs = [1]*w + [0]*(r-w-2)\n",
    "        random.shuffle(coefs)\n",
    "        return self.R([1]+coefs+[1])\n",
    "\n",
    "    \n",
    "\n",
    "\n",
    "    def h(self,seed):\n",
    "        wlist = []\n",
    "\n",
    "        s = shake_256(seed).digest(self.T)\n",
    "        mask = 2**(ceil(log(len(seed),2)))-1\n",
    "        print('s',s); print()\n",
    "        print('mask',mask)\n",
    "\n",
    "        for i in range(32):\n",
    "            print('s',s[32*(i+1)-1:32*i])\n",
    "            pos = s[32*(i+1)-1:32*i] & mask\n",
    "            if (pos < len(seed)) and (pos not in wlist):\n",
    "                wlist.append(pos)\n",
    "        \n",
    "        return wlist\n",
    "\n",
    "\n",
    "    def l(self,e0,e1):\n",
    "        h = sha3_384()\n",
    "        h.update(e0)\n",
    "        h.update(e1)\n",
    "        return h.digest(self.L)\n",
    "\n",
    "\n",
    "    def k(self,m,c):\n",
    "        (c0,c1) = c\n",
    "        h = sha3_384()\n",
    "        h.update(m)\n",
    "        h.update(c0)\n",
    "        h.update(c1)\n",
    "        return h.digest(self.L)\n",
    "\n",
    "\n",
    "\n",
    "    def keyGen(self):\n",
    "         #Gerar h0 e h1          \n",
    "        #Gerar as componentes chave privada\n",
    "        h0 = self.geraCoef(self.W//2, self.r)\n",
    "        h1 = self.geraCoef(self.W//2, self.r)\n",
    "\n",
    "        h = h1 * h0**(-1)\n",
    "        sigma = os.urandom(self.L)\n",
    "        \n",
    "        priv = (h0,h1,sigma)\n",
    "        pub = h\n",
    "        \n",
    "        return priv, pub\n",
    "\n",
    "\n",
    "    def encaps(self, pk):\n",
    "        m = os.urandom(self.L)\n",
    "        \n",
    "        (e0,e1) = self.h(m)\n",
    "        c = (e0+e1*pk,m^^self.l(e0,e1))\n",
    "\n",
    "        k = self.k(m,c)\n",
    "\n",
    "        return (k,c)\n",
    "\n",
    "\n",
    "\n",
    "    def decaps(self,sk,c):\n",
    "        _e = decoder\n",
    "\n"
   ]
  },
  {
   "cell_type": "code",
   "execution_count": 81,
   "metadata": {
    "vscode": {
     "languageId": "python"
    }
   },
   "outputs": [
    {
     "name": "stdout",
     "output_type": "stream",
     "text": [
      "x^12322 + x^12216 + x^11835 + x^11692 + x^11559 + x^11549 + x^11349 + x^11288 + x^10641 + x^10598 + x^10533 + x^10436 + x^10318 + x^10285 + x^10200 + x^9926 + x^9783 + x^9621 + x^9419 + x^8643 + x^8557 + x^8329 + x^7624 + x^7590 + x^7581 + x^7565 + x^6931 + x^6915 + x^6678 + x^6641 + x^6306 + x^6106 + x^6004 + x^5912 + x^5774 + x^5435 + x^5335 + x^5120 + x^4999 + x^4921 + x^4897 + x^4766 + x^4760 + x^4590 + x^4520 + x^4122 + x^4083 + x^4076 + x^3991 + x^3689 + x^3049 + x^2975 + x^2820 + x^2704 + x^2536 + x^2504 + x^2162 + x^2012 + x^1922 + x^1846 + x^1572 + x^1510 + x^1367 + x^452 + x^395 + x^371 + x^355 + x^340 + x^265 + x^119 + x^53 + x^6 + 1\n",
      "b'&\\xf0\\xec\\xc9\\x19\\xad\\xe4\\xa9\\xa4\\xd6\\x8cTE\\xc3\\xbd\\xf7y\\xf9\\xe7\\x06by\\x04\\xac%\\xb02\\xd0\\x9bD\\x04\\x0eGC2G\\x83Ws\\xa8B\\x96\\xd8\\x9d.\\xc9P\\x9f\\xb6km\\x17FS\\x14\\x99\\x1a!\\xf45vz^\\x1d\\x99\\x0eG\\xb7=\\xf2\\xdcT\\xd3\\xe8\\x0bA\\xcc\\xefj\\x9c\\xea%\\xe6\\x8b\\xe1\\xe1\\x03\\xf2\\n\\x83]\\x94__\\xb8d\\x15{O#_\\xdc\\xd3+F\\xed\\xf4Z\\xa8\\x0b\\x05T\\x9e\\xbdo\\x9b\\x00$\\x16\\no\\t\\xecR\\xb8\\x94\\xff;1&8\\x0b\\x8f-fM\\x89\\x88\\x8b,\\x94\\xb3\\xd1\\x9f\\x84\\xba^<\\xe7\\x9ar9x\\x9dL\\xce3\\xcbG\\xb76\\xb6\\xc5\\t\\xda,\\xeec>\\xe9\\xceXM\\x83\\x93\\xe5\\xdb\\xc4\\xc4|\\xc4\\xd5\\xd9\\x1c\\x90\\xba\\x82\\xd1,\\xba\\xedT83\\xdf&w\\x00g4XP\\xb31\\xb3\\x98\\xc8\\x9d\\xe6\\xf6\\x00=\\x91\\xdc\\x9c7_\\xde\\xd8]:\\t{\\x9c`\\x14\\xac\\xf2j\\x15T=\\xdb\\xa4<r\\x89=d\\xf8\\xa3\\xe5 \\x9c\\xed\\xf0\\xedlT\\xb023\\x1b\\xaf@\\xd3'\n",
      "s b'(3\\t\\x8e\\xd2\\t\\xdd\\x89\\x04[V9\\x835\\r\\x9d\\xd4a\\xda5*6{\\xd8(\\x99t\\xa0L\\xd0\\xb3H;\\xb4WB>\\xc6\\xa97r\\xbc\\xa9\\xeeY\\xb2=\\x80Z\\xee\\x95\\n\\xd9k>\\xacMcrf\\x86\\xe2\\xa7\\xaf\\x9b\\xe7\\x03\\x87b:\\xb8\\xafu\\xe3\\x9b\\x11\\xfa\\x91\\x14\\xec$)#\\x0f\\x8fY\\xdb\\x19M\\xc8\\xd1Z/\\xee\\x8cg\\x8fG\\xa2\\xb1t\\xe4\\xd9\\x9dr\\xd4t~eWs\\xf0A.\\xbc\\x88\\x16\\xe8\\xcc\\xb7$\\xac\\xa7;\\x83\\x81\\xc4\\xbdY\\x02\\x15\\xe3\\xf8Y'\n",
      "\n",
      "mask 255\n",
      "s b''\n"
     ]
    },
    {
     "ename": "ValueError",
     "evalue": "invalid literal for int() with base 10: b''",
     "output_type": "error",
     "traceback": [
      "\u001b[0;31m---------------------------------------------------------------------------\u001b[0m",
      "\u001b[0;31mValueError\u001b[0m                                Traceback (most recent call last)",
      "\u001b[0;32m/var/folders/t0/3fmfjfd52ls2vmngjg2jq99r0000gn/T/ipykernel_15386/2059062437.py\u001b[0m in \u001b[0;36m<module>\u001b[0;34m\u001b[0m\n\u001b[1;32m      8\u001b[0m \u001b[0mprint\u001b[0m\u001b[0;34m(\u001b[0m\u001b[0msigma\u001b[0m\u001b[0;34m)\u001b[0m\u001b[0;34m\u001b[0m\u001b[0;34m\u001b[0m\u001b[0m\n\u001b[1;32m      9\u001b[0m \u001b[0;34m\u001b[0m\u001b[0m\n\u001b[0;32m---> 10\u001b[0;31m \u001b[0mk\u001b[0m\u001b[0;34m.\u001b[0m\u001b[0mencaps\u001b[0m\u001b[0;34m(\u001b[0m\u001b[0mpub\u001b[0m\u001b[0;34m)\u001b[0m\u001b[0;34m\u001b[0m\u001b[0;34m\u001b[0m\u001b[0m\n\u001b[0m",
      "\u001b[0;32m/var/folders/t0/3fmfjfd52ls2vmngjg2jq99r0000gn/T/ipykernel_15386/2819585170.py\u001b[0m in \u001b[0;36mencaps\u001b[0;34m(self, pk)\u001b[0m\n\u001b[1;32m     78\u001b[0m         \u001b[0mm\u001b[0m \u001b[0;34m=\u001b[0m \u001b[0mos\u001b[0m\u001b[0;34m.\u001b[0m\u001b[0murandom\u001b[0m\u001b[0;34m(\u001b[0m\u001b[0mself\u001b[0m\u001b[0;34m.\u001b[0m\u001b[0mL\u001b[0m\u001b[0;34m)\u001b[0m\u001b[0;34m\u001b[0m\u001b[0;34m\u001b[0m\u001b[0m\n\u001b[1;32m     79\u001b[0m \u001b[0;34m\u001b[0m\u001b[0m\n\u001b[0;32m---> 80\u001b[0;31m         \u001b[0;34m(\u001b[0m\u001b[0me0\u001b[0m\u001b[0;34m,\u001b[0m\u001b[0me1\u001b[0m\u001b[0;34m)\u001b[0m \u001b[0;34m=\u001b[0m \u001b[0mself\u001b[0m\u001b[0;34m.\u001b[0m\u001b[0mh\u001b[0m\u001b[0;34m(\u001b[0m\u001b[0mm\u001b[0m\u001b[0;34m)\u001b[0m\u001b[0;34m\u001b[0m\u001b[0;34m\u001b[0m\u001b[0m\n\u001b[0m\u001b[1;32m     81\u001b[0m         \u001b[0mc\u001b[0m \u001b[0;34m=\u001b[0m \u001b[0;34m(\u001b[0m\u001b[0me0\u001b[0m\u001b[0;34m+\u001b[0m\u001b[0me1\u001b[0m\u001b[0;34m*\u001b[0m\u001b[0mpk\u001b[0m\u001b[0;34m,\u001b[0m\u001b[0mm\u001b[0m\u001b[0;34m^\u001b[0m\u001b[0mself\u001b[0m\u001b[0;34m.\u001b[0m\u001b[0ml\u001b[0m\u001b[0;34m(\u001b[0m\u001b[0me0\u001b[0m\u001b[0;34m,\u001b[0m\u001b[0me1\u001b[0m\u001b[0;34m)\u001b[0m\u001b[0;34m)\u001b[0m\u001b[0;34m\u001b[0m\u001b[0;34m\u001b[0m\u001b[0m\n\u001b[1;32m     82\u001b[0m \u001b[0;34m\u001b[0m\u001b[0m\n",
      "\u001b[0;32m/var/folders/t0/3fmfjfd52ls2vmngjg2jq99r0000gn/T/ipykernel_15386/2819585170.py\u001b[0m in \u001b[0;36mh\u001b[0;34m(self, seed)\u001b[0m\n\u001b[1;32m     34\u001b[0m         \u001b[0;32mfor\u001b[0m \u001b[0mi\u001b[0m \u001b[0;32min\u001b[0m \u001b[0mrange\u001b[0m\u001b[0;34m(\u001b[0m\u001b[0mInteger\u001b[0m\u001b[0;34m(\u001b[0m\u001b[0;36m32\u001b[0m\u001b[0;34m)\u001b[0m\u001b[0;34m)\u001b[0m\u001b[0;34m:\u001b[0m\u001b[0;34m\u001b[0m\u001b[0;34m\u001b[0m\u001b[0m\n\u001b[1;32m     35\u001b[0m             \u001b[0mprint\u001b[0m\u001b[0;34m(\u001b[0m\u001b[0;34m's'\u001b[0m\u001b[0;34m,\u001b[0m\u001b[0ms\u001b[0m\u001b[0;34m[\u001b[0m\u001b[0mInteger\u001b[0m\u001b[0;34m(\u001b[0m\u001b[0;36m32\u001b[0m\u001b[0;34m)\u001b[0m\u001b[0;34m*\u001b[0m\u001b[0;34m(\u001b[0m\u001b[0mi\u001b[0m\u001b[0;34m+\u001b[0m\u001b[0mInteger\u001b[0m\u001b[0;34m(\u001b[0m\u001b[0;36m1\u001b[0m\u001b[0;34m)\u001b[0m\u001b[0;34m)\u001b[0m\u001b[0;34m-\u001b[0m\u001b[0mInteger\u001b[0m\u001b[0;34m(\u001b[0m\u001b[0;36m1\u001b[0m\u001b[0;34m)\u001b[0m\u001b[0;34m:\u001b[0m\u001b[0mInteger\u001b[0m\u001b[0;34m(\u001b[0m\u001b[0;36m32\u001b[0m\u001b[0;34m)\u001b[0m\u001b[0;34m*\u001b[0m\u001b[0mi\u001b[0m\u001b[0;34m]\u001b[0m\u001b[0;34m)\u001b[0m\u001b[0;34m\u001b[0m\u001b[0;34m\u001b[0m\u001b[0m\n\u001b[0;32m---> 36\u001b[0;31m             \u001b[0mpos\u001b[0m \u001b[0;34m=\u001b[0m \u001b[0mint\u001b[0m\u001b[0;34m(\u001b[0m\u001b[0ms\u001b[0m\u001b[0;34m[\u001b[0m\u001b[0mInteger\u001b[0m\u001b[0;34m(\u001b[0m\u001b[0;36m32\u001b[0m\u001b[0;34m)\u001b[0m\u001b[0;34m*\u001b[0m\u001b[0;34m(\u001b[0m\u001b[0mi\u001b[0m\u001b[0;34m+\u001b[0m\u001b[0mInteger\u001b[0m\u001b[0;34m(\u001b[0m\u001b[0;36m1\u001b[0m\u001b[0;34m)\u001b[0m\u001b[0;34m)\u001b[0m\u001b[0;34m-\u001b[0m\u001b[0mInteger\u001b[0m\u001b[0;34m(\u001b[0m\u001b[0;36m1\u001b[0m\u001b[0;34m)\u001b[0m\u001b[0;34m:\u001b[0m\u001b[0mInteger\u001b[0m\u001b[0;34m(\u001b[0m\u001b[0;36m32\u001b[0m\u001b[0;34m)\u001b[0m\u001b[0;34m*\u001b[0m\u001b[0mi\u001b[0m\u001b[0;34m]\u001b[0m\u001b[0;34m)\u001b[0m \u001b[0;34m&\u001b[0m \u001b[0mmask\u001b[0m\u001b[0;34m\u001b[0m\u001b[0;34m\u001b[0m\u001b[0m\n\u001b[0m\u001b[1;32m     37\u001b[0m             \u001b[0;32mif\u001b[0m \u001b[0;34m(\u001b[0m\u001b[0mpos\u001b[0m \u001b[0;34m<\u001b[0m \u001b[0mlen\u001b[0m\u001b[0;34m(\u001b[0m\u001b[0mseed\u001b[0m\u001b[0;34m)\u001b[0m\u001b[0;34m)\u001b[0m \u001b[0;32mand\u001b[0m \u001b[0;34m(\u001b[0m\u001b[0mpos\u001b[0m \u001b[0;32mnot\u001b[0m \u001b[0;32min\u001b[0m \u001b[0mwlist\u001b[0m\u001b[0;34m)\u001b[0m\u001b[0;34m:\u001b[0m\u001b[0;34m\u001b[0m\u001b[0;34m\u001b[0m\u001b[0m\n\u001b[1;32m     38\u001b[0m                 \u001b[0mwlist\u001b[0m\u001b[0;34m.\u001b[0m\u001b[0mappend\u001b[0m\u001b[0;34m(\u001b[0m\u001b[0mpos\u001b[0m\u001b[0;34m)\u001b[0m\u001b[0;34m\u001b[0m\u001b[0;34m\u001b[0m\u001b[0m\n",
      "\u001b[0;31mValueError\u001b[0m: invalid literal for int() with base 10: b''"
     ]
    }
   ],
   "source": [
    "k = BIKE_KEM()\n",
    "\n",
    "priv,pub = k.keyGen()\n",
    "\n",
    "(h0,h1,sigma) = priv\n",
    "\n",
    "print((h0))\n",
    "print(sigma)\n",
    "\n",
    "k.encaps(pub)"
   ]
  }
 ],
 "metadata": {
  "kernelspec": {
   "display_name": "SageMath 9.5",
   "language": "sage",
   "name": "sagemath-9.5"
  },
  "language_info": {
   "codemirror_mode": {
    "name": "ipython",
    "version": 3
   },
   "file_extension": ".py",
   "mimetype": "text/x-python",
   "name": "python",
   "nbconvert_exporter": "python",
   "pygments_lexer": "ipython3",
   "version": "3.9.9"
  }
 },
 "nbformat": 4,
 "nbformat_minor": 2
}
