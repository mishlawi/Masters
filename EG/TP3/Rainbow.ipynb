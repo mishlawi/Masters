{
 "cells": [
  {
   "cell_type": "markdown",
   "metadata": {},
   "source": [
    "# Trabalho prático 3\n",
    "\n",
    "**Grupo 5**:\n",
    "* Duarte Oliveira \\<pg47157\\>\n",
    "* Melânia Pereira \\<pg47520\\>\n",
    "\n",
    "# Rainbow \n",
    "Criação de um protótipo em Sagemath do algoritmo Rainbow, candidato ao [concurso NIST Post-Quantum Cryptography](https://csrc.nist.gov/Projects/post-quantum-cryptography/round-3-submissions) na categoria de esquemas de assinatura digital."
   ]
  },
  {
   "cell_type": "markdown",
   "metadata": {},
   "source": [
    "# Inicialização"
   ]
  },
  {
   "cell_type": "code",
   "execution_count": 550,
   "metadata": {},
   "outputs": [],
   "source": [
    "import hashlib"
   ]
  },
  {
   "cell_type": "code",
   "execution_count": 551,
   "metadata": {},
   "outputs": [],
   "source": [
    "class RAIN:\n",
    "    #Geração dos parâmetros (Security Category I)\n",
    "    def __init__(self): \n",
    "        self.q = 16\n",
    "        self.u = 2                              \n",
    "        self.v1 = 36\n",
    "        self.o1 = 32\n",
    "        self.o2 = 32\n",
    "        self.v2 = self.v1+1+self.o1\n",
    "\n",
    "        self.m = self.o1 + self.o2\n",
    "        self.n = self.m + self.v1\n",
    "        \n",
    "        self.F = GF(self.q)\n",
    "        self.FF = PolynomialRing(self.F,names=['x'+str(i) for i in range(1,self.n+1)])"
   ]
  },
  {
   "cell_type": "markdown",
   "metadata": {},
   "source": [
    "# Funções auxiliares\n",
    "\n",
    "Definimos as funções *rainbowMap()*, *H()* e *InvF()*\n",
    "\n",
    "+ *rainbowMap()* é a função que gera um mapa central de acordo com os parâmetros do algoritmo com coeficientes escolhidos aleatorimente em $F_q$.\n",
    "+ *H()* é uma função de hash que usa o SHAKE-256.\n",
    "+ *InvF()* é a função de inversão do mapa gerado pela *rainbowMap()*."
   ]
  },
  {
   "cell_type": "code",
   "execution_count": 552,
   "metadata": {},
   "outputs": [],
   "source": [
    "class RAIN(RAIN):\n",
    "\n",
    "    #Definição de funções auxiliares\n",
    "    def rainbowMap(self):\n",
    "        v2 = self.v1+self.o1\n",
    "        v3 = self.n\n",
    "        \n",
    "        V = [range(1, self.v1+1), range(1, v2+1)]\n",
    "        O = [range(self.v1+1, v2+1), range(v2+1, v3+1)]\n",
    "        \n",
    "        f=[]\n",
    "        for k in range(self.v1+1, self.n+1):\n",
    "            try:\n",
    "                pol = 0\n",
    "                var = self.FF.gens()\n",
    "                l = 1\n",
    "                if k in O[0]:\n",
    "                    l = 0\n",
    "                    \n",
    "                for i in V[l]:\n",
    "                    for j in V[l]:\n",
    "                        pol += self.F.random_element()*var[i-1]*var[j-1]\n",
    "                        pol += self.F.random_element()*var[i-1]\n",
    "                    for j in O[l]:\n",
    "                        pol += self.F.random_element()*var[i-1]*var[j-1]\n",
    "                        pol += self.F.random_element()*var[j-1]\n",
    "                \n",
    "                pol += self.F.random_element()\n",
    "                    \n",
    "                f.append(self.FF(pol))\n",
    "            except Exception as e:\n",
    "                print('e: ', l, k,j)\n",
    "        \n",
    "        return f\n",
    "\n",
    "    \n",
    "    def H(self, d):\n",
    "        dig = hashlib.shake_256(d.encode()).digest(int(32))\n",
    "        \n",
    "        h = []\n",
    "        lF = self.F.list() \n",
    "        for i in dig:\n",
    "            h.append(lF[int(format(i, '08b')[:4], 2)])\n",
    "            h.append(lF[int(format(i, '08b')[4:], 2)])\n",
    "        return h\n",
    "\n",
    "\n",
    "    def InvF(self, Fm, x):\n",
    "        t = False\n",
    "        while not t:\n",
    "            \n",
    "            y = [self.F.random_element() for _ in range(self.v1)]\n",
    "            vars = self.FF.gens()\n",
    "            aux = {}\n",
    "            for i in range(self.v1):\n",
    "                aux[vars[i]] = y[i]\n",
    "            \n",
    "            Fm_ = []\n",
    "            for f in Fm:\n",
    "                Fm_.append(f.subs(aux))\n",
    "            \n",
    "            \n",
    "            lin_sys = []\n",
    "            for i, p in enumerate(Fm_[:32]):\n",
    "                lin_sys.append(p-self.FF(x[i]))\n",
    "\n",
    "            GG = PolynomialRing(self.F,names=vars[36:68])\n",
    "            \n",
    "            J = GG.ideal(lin_sys)\n",
    "            if J.dimension() == 0:\n",
    "                variety =  J.variety()\n",
    "                if len(variety)!= 0:\n",
    "                    y2 = [v for v in  variety[0].values()]\n",
    "                    y2.reverse()\n",
    "                    aux = {}\n",
    "                    for i, v in enumerate(y2):\n",
    "                        aux[vars[i+self.v1]] = v\n",
    "                    \n",
    "                    lin_sys = []\n",
    "                    for i, p in enumerate(Fm_[32:]):\n",
    "                        lin_sys.append(p.subs(aux)-self.FF(x[i+32]))\n",
    "    \n",
    "                    GG = PolynomialRing(self.F,names=vars[68:])\n",
    "                    y += y2\n",
    "                    y2=[]\n",
    "                    \n",
    "                    J = GG.ideal(lin_sys)\n",
    "                    if J.dimension() == 0:\n",
    "                        variety =  J.variety()\n",
    "                        if len(variety)!= 0:\n",
    "                            for s in variety[0].values():\n",
    "                                y2.append(s)\n",
    "                            t=True\n",
    "                        y2.reverse()\n",
    "        return y+y2"
   ]
  },
  {
   "cell_type": "markdown",
   "metadata": {},
   "source": [
    "# Geração de chaves\n",
    "\n",
    "Para a chave privada, é necessário gerar dois *affine maps* $S : F^m \\rightarrow F^m$ e $T : F^n \\rightarrow F^n$ e ainda um *central map* quadrático $F : F^n \\rightarrow F^n$. Assim, a chave privada é composta pelas matrizes e vetores que constroem esses mapas.\n",
    "\n",
    "A chave pública consiste na composição de $S$ com $F$ e com $T$."
   ]
  },
  {
   "cell_type": "code",
   "execution_count": 553,
   "metadata": {},
   "outputs": [],
   "source": [
    "class RAIN(RAIN):\n",
    "    \n",
    "    #Algoritmo de geração de chaves  \n",
    "    def keygen(self):\n",
    "        MQ = self.FF^self.m\n",
    "        Fn = self.F^self.n\n",
    "        Fm = self.F^self.m\n",
    "\n",
    "        Ms = matrix.random(self.F, self.m, self.m)\n",
    "\n",
    "        while not Ms.is_invertible():\n",
    "            Ms = matrix.random(self.F, self.m, self.m)\n",
    "            \n",
    "        cs = matrix(self.m, 1, Fm.random_element())\n",
    "\n",
    "        def S(x):\n",
    "            return Ms*x + cs\n",
    "\n",
    "        invS = Ms.inverse()\n",
    "\n",
    "        Mt = matrix.random(self.F, self.n, self.n)\n",
    "\n",
    "        while not Mt.is_invertible():\n",
    "            Mt = matrix.random(self.F, self.n, self.n)\n",
    "        \n",
    "        ct = matrix(self.n, 1, Fn.random_element())\n",
    "\n",
    "        def T(x):\n",
    "            return vector(Mt*x + ct)\n",
    "\n",
    "        invT = Mt.inverse()\n",
    "\n",
    "        polf = self.rainbowMap()\n",
    "\n",
    "        def f(x):\n",
    "            r=[]\n",
    "            for f in polf:\n",
    "                r.append(f(*x))\n",
    "            return matrix(self.m, 1, r)  \n",
    "\n",
    "        comp = compose(S,compose(f,T))\n",
    "        p = comp(matrix(self.n, 1, self.FF.gens()))\n",
    "\n",
    "        sk = (invS,cs,polf,invT,ct)\n",
    "        pk = p\n",
    "\n",
    "        return (sk,pk)"
   ]
  },
  {
   "cell_type": "markdown",
   "metadata": {},
   "source": [
    "# Assinatura\n",
    "\n",
    "Para assinar uma qualquer mensagem $d$, começamos por gerar o seu *hash*, através da função de *hashing* SHAKE-256.\n",
    "\n",
    "Depois é calculado **x** = $S^{-1}(h)$ e uma pré imagem desse **x** sob o *central map* **F** através da função *InvF()* definida acima.\n",
    "\n",
    "Finalmente, calculamos a assinatura **z** = $T^{-1}(y)$."
   ]
  },
  {
   "cell_type": "code",
   "execution_count": 554,
   "metadata": {},
   "outputs": [],
   "source": [
    "class RAIN(RAIN):\n",
    "    \n",
    "    #Algoritmo de assinatura  \n",
    "    def sign(self,sk,d):\n",
    "        (invS,cs,f,invT,ct) = sk\n",
    "\n",
    "        h = matrix(self.m, 1, self.H(d))\n",
    "\n",
    "        x = invS * (h - cs)\n",
    "\n",
    "        y = matrix(self.n, 1, self.InvF(f, x))\n",
    "\n",
    "        z = invT * (y - ct)\n",
    "\n",
    "        return z"
   ]
  },
  {
   "cell_type": "markdown",
   "metadata": {},
   "source": [
    "# Verificação\n",
    "\n",
    "Dada uma mensagem ou documento **d** e uma assinatura **z**, começamos por calcular a *hash* de **d** tal como foi feito para a geração da assinatura.\n",
    "\n",
    "Depois, calculamos **h'** através da chave pública, que é a composição das funções geradas na geração das chaves, à qual passamos a assinatura **z**. \n",
    "\n",
    "Se **h** for igual a **h'**, então a assinatura é verificada."
   ]
  },
  {
   "cell_type": "code",
   "execution_count": 555,
   "metadata": {},
   "outputs": [],
   "source": [
    "class RAIN(RAIN):\n",
    "    \n",
    "    #Algoritmo de verificação  \n",
    "    def ver(self,d,z,pk):\n",
    "        h = matrix(self.m, 1, self.H(d))\n",
    "\n",
    "        h_ = pk(z)\n",
    "\n",
    "        return h==h_"
   ]
  },
  {
   "cell_type": "markdown",
   "metadata": {},
   "source": [
    "# Teste"
   ]
  },
  {
   "cell_type": "code",
   "execution_count": 556,
   "metadata": {},
   "outputs": [
    {
     "name": "stdout",
     "output_type": "stream",
     "text": [
      "keys generated\n"
     ]
    }
   ],
   "source": [
    "rain = RAIN()\n",
    "m = 'hello'\n",
    "\n",
    "(sk,pk) = rain.keygen()\n",
    "print('keys generated')"
   ]
  },
  {
   "cell_type": "code",
   "execution_count": 559,
   "metadata": {},
   "outputs": [
    {
     "name": "stdout",
     "output_type": "stream",
     "text": [
      "signed\n",
      "verified?\n"
     ]
    },
    {
     "data": {
      "text/plain": [
       "True"
      ]
     },
     "execution_count": 559,
     "metadata": {},
     "output_type": "execute_result"
    }
   ],
   "source": [
    "z = rain.sign(sk,m)\n",
    "print('signed')\n",
    "\n",
    "print('verified?')\n",
    "rain.ver(m,z.list(),pk)"
   ]
  }
 ],
 "metadata": {
  "kernelspec": {
   "display_name": "SageMath 9.5",
   "language": "sage",
   "name": "sagemath-9.5"
  },
  "language_info": {
   "codemirror_mode": {
    "name": "ipython",
    "version": 3
   },
   "file_extension": ".py",
   "mimetype": "text/x-python",
   "name": "python",
   "nbconvert_exporter": "python",
   "pygments_lexer": "ipython3",
   "version": "3.9.9"
  }
 },
 "nbformat": 4,
 "nbformat_minor": 2
}
