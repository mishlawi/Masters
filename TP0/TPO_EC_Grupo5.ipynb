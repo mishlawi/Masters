{
 "cells": [
  {
   "cell_type": "markdown",
   "metadata": {},
   "source": [
    "# Trabalho Prático 0 de Estruturas Criptográficas\n",
    "\n",
    "### Grupo 5\n",
    "- Duarte Oliveira (pg47157)\n",
    "- Melânia Pereira (pg47520)"
   ]
  },
  {
   "cell_type": "code",
   "execution_count": 89,
   "metadata": {},
   "outputs": [],
   "source": [
    "# Imports necessários à execução do código presente neste notebook\n",
    "\n",
    "import os\n",
    "import time\n",
    "from cryptography.hazmat.primitives import hashes, hmac\n",
    "from cryptography.hazmat.primitives.kdf.hkdf import HKDF\n",
    "from cryptography.hazmat.primitives.ciphers.aead import AESGCM\n",
    "from cryptography.hazmat.primitives.asymmetric import dh\n",
    "from cryptography.hazmat.primitives.kdf.pbkdf2 import PBKDF2HMAC\n",
    "from cryptography.hazmat.primitives import padding"
   ]
  },
  {
   "cell_type": "markdown",
   "metadata": {},
   "source": [
    "# Exercício 1\n",
    "\n",
    "#### Neste exercício é pedido que se crie uma comunicação privada assíncrona entre um agente Emitter e um agente Receiver que cubra alguns aspetos enunciados a seguir."
   ]
  },
  {
   "cell_type": "markdown",
   "metadata": {},
   "source": [
    "Começamos por desenvolver uma função para derivar uma chave, baseada no funcionamento do protocolo DH para geração de chaves privadas e públicas. Para este protocolo, é necessário gerar parâmetros que devem ser os mesmos para os dois agentes e podem ser reutilizados.<br>\n",
    "Inicialmente, gera-se a chave privada e depois é feita a troca com uma chave pública recebida (que será do outro agente com quem se está a comunicar) que irá gerar uma chave partilhada (a mesma nos dois agentes). Esta chave é ainda passada a uma função de derivação de chaves, para permitir uma mistura de informação que a torna mais segura.<br>\n",
    "Para a chave poder ser gerada, é preciso saber a chave pública do outro agente, para isso, foi também criada uma função que devolve a chave pública gerada."
   ]
  },
  {
   "cell_type": "code",
   "execution_count": 90,
   "metadata": {},
   "outputs": [],
   "source": [
    "parameters = dh.generate_parameters(generator=2, key_size=1024)\n",
    "\n",
    "def get_public_key(private_key):\n",
    "        return private_key.public_key()\n",
    "\n",
    "def derivate_key(private_key,public):\n",
    "        shared_key = private_key.exchange(public)\n",
    "        \n",
    "        derived_key = HKDF(\n",
    "            algorithm=hashes.SHA256(),\n",
    "            length=32,\n",
    "            salt=None,\n",
    "            info=b'handshake data',\n",
    "        ).derive(shared_key)\n",
    "\n",
    "        return derived_key"
   ]
  },
  {
   "cell_type": "markdown",
   "metadata": {},
   "source": [
    "Depois da chave gerada, é o momento de enviar a mensagem para o agente Receiver.<br>\n",
    "Para isso, é primeiro gerada uma assinatura, usando o HMAC que será concatenada com a mensagem cifrada e enviada ao Receiver para que este possa verificar o remetente."
   ]
  },
  {
   "cell_type": "code",
   "execution_count": 91,
   "metadata": {},
   "outputs": [],
   "source": [
    "def auth(message,derived_key):\n",
    "        h = hmac.HMAC(derived_key, hashes.SHA256())\n",
    "        h.update(message)\n",
    "        return h.finalize()"
   ]
  },
  {
   "cell_type": "markdown",
   "metadata": {},
   "source": [
    "De seguida, é usada a função *urandom()* do pacote *os* do *python* para gerar o *nonce* necessário para cifrar a mensagem.<br>\n",
    "A cifra usada foi a AESGCM. Depois de tudo gerado e da mensagem cifrada, esta é concatenada à assinatura e ao *nonce* e enviada para o Receiver."
   ]
  },
  {
   "cell_type": "code",
   "execution_count": 92,
   "metadata": {},
   "outputs": [],
   "source": [
    "def cifraGCM(nonce,message,derived_key):\n",
    "    aesgcm = AESGCM(derived_key)\n",
    "    return aesgcm.encrypt(nonce, message, b'some associated data')\n",
    "\n",
    "def send_message(message,derived_key):\n",
    "        signature = auth(b'this is a message to check the signature',derived_key)\n",
    "        message = message.encode('utf-8')\n",
    "        nonce = os.urandom(16)\n",
    "        ct = cifraGCM(nonce,message,derived_key)\n",
    "        \n",
    "        return signature + nonce + ct"
   ]
  },
  {
   "cell_type": "markdown",
   "metadata": {},
   "source": [
    "Do lado do Receiver, os dados são recebidos e desempacotados."
   ]
  },
  {
   "cell_type": "code",
   "execution_count": 93,
   "metadata": {},
   "outputs": [],
   "source": [
    "def unpack_data(dados):\n",
    "      signature = dados[0:32]\n",
    "      nonce = dados[32:32+16]\n",
    "      ct = dados[32+16:]\n",
    "\n",
    "      return signature, nonce, ct"
   ]
  },
  {
   "cell_type": "markdown",
   "metadata": {},
   "source": [
    "Depois de ter os dados desempacotaos e separados, é necessário fazer a verificação da assinatira da mensagem recebida. Novamente, usando o HMAC."
   ]
  },
  {
   "cell_type": "code",
   "execution_count": 94,
   "metadata": {},
   "outputs": [],
   "source": [
    "def verify(signature,derived_key):\n",
    "      h = hmac.HMAC(derived_key, hashes.SHA256())\n",
    "      h.update(b'this is a message to check the signature')\n",
    "      return h.verify(signature)"
   ]
  },
  {
   "cell_type": "markdown",
   "metadata": {},
   "source": [
    "Se a assinatura for verificada, passa-se então à decifragem da mensagem pela cifra AESGCM."
   ]
  },
  {
   "cell_type": "code",
   "execution_count": 95,
   "metadata": {},
   "outputs": [],
   "source": [
    "def decifraGCM(nonce, ct, derived_key):\n",
    "    aesgcm = AESGCM(derived_key)\n",
    "    return aesgcm.decrypt(nonce, ct, b'some associated data')\n",
    "\n",
    "def read_message(ct, derived_key):\n",
    "      signature, nonce, ct = unpack_data(ct)\n",
    "      try :\n",
    "          verify(signature, derived_key)\n",
    "      except:\n",
    "          raise Exception(\"Falha na autenticidade da chave\") \n",
    "\n",
    "      texto_limpo = decifraGCM(nonce, ct, derived_key)\n",
    "    \n",
    "      return texto_limpo.decode('utf-8')"
   ]
  },
  {
   "cell_type": "markdown",
   "metadata": {},
   "source": [
    "Finalmente, enviamos a mensagem do Emitter para o Receiver."
   ]
  },
  {
   "cell_type": "code",
   "execution_count": 96,
   "metadata": {},
   "outputs": [
    {
     "name": "stdout",
     "output_type": "stream",
     "text": [
      "encrypted text: b\"\\xdb\\xf4\\x7f\\xa1\\x87\\xd9\\xb8\\x81e\\xff:\\x97\\xc0\\xcb@\\x81\\xa5[\\xff:\\x0e?\\xa5co\\xa5\\xf8'\\xf7\\xbc\\xa1%\\x93B\\xc0b\\x9a\\xe6\\x05\\xb4*R>\\xd1\\x1b\\xb8\\x9f\\x9e\\x1f,\\x86o\\xab\\x7f\\x08\\xd4~*T\\xd1\\xf9\\xa2bm\\xcap\\xb5\\x0f\\xaa(\\xd0J\\xb4Z\\xe5\\xafR\\x96\\xf3\\x9c\\xb2p_\\xf2s\\x938\\xbc\\xfdZ\\xd7\\x96\\x8a\\xb3g}\\xe0|\\xe2\\xa6\\xd7\\x15\\x9bq\\xee\\xde\\x86\\xa4\\x80\\xff\\xe8\\x04\\xc7I\\x19\\xdaqv\\x12-\\xd1/4\\xba\\xcb\\x97\\xa9\\x06o\\x0b\\xca=\\xab\"\n",
      "decrypted text: Estruturas Criptográficas é uma unidade curricular do perfil de CSI\n"
     ]
    }
   ],
   "source": [
    "def main():\n",
    "    rv_private_key = parameters.generate_private_key()\n",
    "    em_private_key = parameters.generate_private_key()\n",
    "    em_derived_key = derivate_key(em_private_key,get_public_key(rv_private_key))\n",
    "    rv_derived_key = derivate_key(rv_private_key,get_public_key(em_private_key))\n",
    "    \n",
    "    dados = send_message(\"Estruturas Criptográficas é uma unidade curricular do perfil de CSI\", em_derived_key)\n",
    "    print('encrypted text:',dados)\n",
    "\n",
    "    try:\n",
    "        pt = read_message(dados,rv_derived_key)\n",
    "\n",
    "        print('decrypted text:', pt)\n",
    "    except:\n",
    "        print(\"Falha na autenticação da chave\")  \n",
    "\n",
    "main()"
   ]
  },
  {
   "cell_type": "markdown",
   "metadata": {},
   "source": [
    "# Exercicio 2\n",
    "## Criar uma cifra com autenticação de meta-dados a partir de um PRG\n"
   ]
  },
  {
   "cell_type": "markdown",
   "metadata": {},
   "source": [
    "Como objetivo inicial, esperava-se que o nosso grupo implementasse um gerador pseudo-aleatório do usando uma função XOF(\"extended output function\") - SHAKE256 - de forma a gerar uma sequência de palavras, cada uma com 64 bits.\n",
    "\n",
    "\n",
    "Para começar, criamos uma função que recebe a password e a partir de uma *KDF* - no nosso caso decidimos escolher a **PBKDF2HMAC**, mas também poderíamos ter usado a *HKD*. Esta decisão foi tida em conta com a leitura da documentação da lib *Crypthography*, a qual inferia que há diferentes tipos de funções de derivação para diferentes tipos de propósitos. Como o nosso objetivo seria criar uma seed para o gerador, escolhemos um dos que era recomendado. "
   ]
  },
  {
   "cell_type": "code",
   "execution_count": 97,
   "metadata": {},
   "outputs": [],
   "source": [
    "def derive_key(password):\n",
    "    salt = os.urandom(16)\n",
    "    kdf = PBKDF2HMAC(\n",
    "        algorithm=hashes.SHA256(),\n",
    "        length=32,\n",
    "        salt=salt,\n",
    "        iterations=100000,\n",
    "        )\n",
    "\n",
    "    return kdf.derive(password)"
   ]
  },
  {
   "cell_type": "markdown",
   "metadata": {},
   "source": [
    "De seguida, e conforme enunciado, era necessário criar o gerador, que tivesse um limite de palavras definido por um valor inicialmente parametrizado como **N**. Com a seed gerada pela *key derivation function* que escolhemos seria possível gerar 2^N palavras de 64 bits cada.\n",
    "Seguindo o requisitado para este projeto, era necessário usar o **SHAKE256** para definir o gerador - como se sabe o *SHAKE256* é uma *extendable-output function* e define-se o seu uso tendo em conta a necessidade de geração de palavras usando uma XOF. \n"
   ]
  },
  {
   "cell_type": "code",
   "execution_count": 98,
   "metadata": {},
   "outputs": [],
   "source": [
    "def prg(seed,N):\n",
    "    digest = hashes.Hash(hashes.SHAKE256(8 * pow(2,N))) # sequencia palavras 64 bits / 8 = 8 bytes\n",
    "    digest.update(seed)\n",
    "    msg = digest.finalize()\n",
    "    return msg"
   ]
  },
  {
   "cell_type": "markdown",
   "metadata": {},
   "source": [
    "A partir da sequência de bits representativa da lista de palavras, gerada pelo PRG, conseguimos aplicar a cifra **OTP**.\n",
    "Assumindo a variante construída em 1919, é necessário definir a operação *XOR* em contraste com a sua versão original, criada com adição modular. É então preciso aplicar esta operação ao processo de cifragem e decifragem, sendo que, a partir de duas sequências de bytes é aplicado o XOR a ambas.\n"
   ]
  },
  {
   "cell_type": "code",
   "execution_count": 99,
   "metadata": {},
   "outputs": [],
   "source": [
    "BLOCK = 8 # bytes; representativo de cada bloco que define uma palavra (64 bits)"
   ]
  },
  {
   "cell_type": "code",
   "execution_count": 100,
   "metadata": {},
   "outputs": [],
   "source": [
    "def pad_divide(message):\n",
    "    x = []\n",
    "    for i in range (0,len(message), BLOCK):\n",
    "        next = i+BLOCK\n",
    "        x.append(message[i:next])\n",
    "    return x"
   ]
  },
  {
   "cell_type": "markdown",
   "metadata": {},
   "source": [
    "É importante denotar o mecanismo associado a estes processos de cifragem e decifragem. Inicialmente é feito o *padding*, de forma a que os blocos de mensagens sejam garantidamente múltiplos, adicionando informação irrelevante. Após isto, e para simplicidade prática,é necessário dividir a mensagem em blocos de 8 bytes - 64 bits - cada um representando uma palavra."
   ]
  },
  {
   "cell_type": "code",
   "execution_count": 101,
   "metadata": {},
   "outputs": [],
   "source": [
    "def cipher(k,msg):\n",
    "    ciphertext = b''\n",
    "    pad = padding.PKCS7(64).padder()\n",
    "    \n",
    "    padded = pad.update(msg) + pad.finalize()\n",
    "    p = pad_divide(padded)\n",
    "\n",
    "    for x in range (len(p)): \n",
    "        for bloco, byte in enumerate(p[x]): \n",
    "            ciphertext += bytes([byte ^ k[x:(x+1)*BLOCK][bloco]]) \n",
    "    return ciphertext\n"
   ]
  },
  {
   "cell_type": "code",
   "execution_count": 102,
   "metadata": {},
   "outputs": [],
   "source": [
    "\n",
    "def decipher(k,ciphertext):\n",
    "    plaintext=b''\n",
    "    \n",
    "    p=pad_divide(ciphertext)\n",
    "\n",
    "    for x in range (len(p)): \n",
    "        for bloco, byte in enumerate(p[x]): \n",
    "            plaintext += bytes([byte ^ k[x:(x+1)*BLOCK][bloco]]) \n",
    "    \n",
    "   \n",
    "    unpadder = padding.PKCS7(64).unpadder()\n",
    "    \n",
    "    unpadded = unpadder.update(plaintext) + unpadder.finalize()\n",
    "    return unpadded.decode(\"utf-8\")"
   ]
  },
  {
   "cell_type": "markdown",
   "metadata": {},
   "source": [
    "De forma a se proceder à autenticação definimos as seguintes funções:"
   ]
  },
  {
   "cell_type": "code",
   "execution_count": 103,
   "metadata": {},
   "outputs": [],
   "source": [
    "def authentication(ck, message):\n",
    "        h = hmac.HMAC(ck, hashes.SHA256())\n",
    "        h.update(message)\n",
    "        return h.finalize()\n",
    "\n",
    "def verify_Auth(ck,message, signature):\n",
    "        h = hmac.HMAC(ck, hashes.SHA256())\n",
    "        h.update(message)\n",
    "        try: \n",
    "            h.verify(signature)\n",
    "            return True\n",
    "        except cryptography.exceptions.InvalidSignature:\n",
    "            return False"
   ]
  },
  {
   "cell_type": "markdown",
   "metadata": {},
   "source": [
    "### Verifica-se então de seguida todo o funcionamento prático deste exercício, e respetivos resultados:"
   ]
  },
  {
   "cell_type": "code",
   "execution_count": 105,
   "metadata": {},
   "outputs": [
    {
     "name": "stdout",
     "output_type": "stream",
     "text": [
      "Plain text:  b'Super hyper mega ultra secret message'\n",
      "Cipher text:   b'%\\xe2:f\\xda\\x9b9\\x8d\\xe7/q\\x88\\xd64\\x93\\x8ajv\\xc4\\xcf#\\x95\\xcbNf\\xcb\\xc94\\x80\\xcbP{\\xdb\\xc80\\x93\\x8e>\\x1d\\xcb'\n",
      "Clear text:   Super hyper mega ultra secret message\n"
     ]
    }
   ],
   "source": [
    "N = 4 # VALOR DO PARAMETRO N\n",
    "\n",
    "cipher_key = derive_key(b'password')\n",
    "gerado = prg(cipher_key,N)\n",
    "mensagem = b\"Super hyper mega ultra secret message\"\n",
    "\n",
    "ct = cipher(gerado,mensagem)\n",
    "auth = authentication(cipher_key,ct)\n",
    "if verify_Auth(cipher_key,ct, auth):\n",
    "    dt = decipher(gerado,ct)\n",
    "else:\n",
    "    print(\"Falha na autenticação do criptograma!\")\n",
    "\n",
    "\n",
    "print(\"Plain text: \", mensagem)\n",
    "print(\"Cipher text:  \", ct)\n",
    "print(\"Clear text:  \", dt)"
   ]
  },
  {
   "cell_type": "markdown",
   "metadata": {},
   "source": [
    "# Exercício 3"
   ]
  },
  {
   "cell_type": "markdown",
   "metadata": {},
   "source": [
    "Para proceder à comparação das duas cifras, desenvolveu-se um cenário de teste onde é testado o tempo que cada uma das cifras demora a cifrar o mesmo texto."
   ]
  },
  {
   "cell_type": "code",
   "execution_count": 107,
   "metadata": {},
   "outputs": [
    {
     "name": "stdout",
     "output_type": "stream",
     "text": [
      "avg elapsed time fst: 48056515.15151515 ns\n",
      "avg elapsed time snd: 91401050.50505051 ns\n"
     ]
    }
   ],
   "source": [
    "N = 15\n",
    "    \n",
    "def fst_cipher():\n",
    "    pwd = b\"password\"\n",
    "    key = derive_key(pwd)\n",
    "    nonce = os.urandom(16)\n",
    "    plaintext = os.urandom(2 ** N)\n",
    "    ciphertext = cifraGCM(nonce, plaintext, key)\n",
    "    return ciphertext\n",
    "\n",
    "def snd_cipher():\n",
    "    pwd = b\"password\"\n",
    "    key = derive_key(pwd)\n",
    "    plaintext = os.urandom(2 ** N)\n",
    "    words = prg(key,N)\n",
    "    ciphertext = cipher(words,plaintext)\n",
    "    return ciphertext\n",
    "\n",
    "fst = []\n",
    "snd = []\n",
    "for i in range(1,100):\n",
    "    start = time.time_ns()\n",
    "    fst_text = fst_cipher()\n",
    "    stop = time.time_ns()\n",
    "    fst.append(stop-start)\n",
    "\n",
    "    start = time.time_ns()\n",
    "    snd_text = snd_cipher()\n",
    "    stop = time.time_ns()\n",
    "    snd.append(stop-start)\n",
    "\n",
    "print('avg elapsed time fst:', sum(fst)/len(fst), 'ns')\n",
    "print('avg elapsed time snd:', sum(snd)/len(snd), 'ns')"
   ]
  },
  {
   "cell_type": "markdown",
   "metadata": {},
   "source": [
    "Correndo a célula anterior podemos, então, reparar que a cifra desenvolvida por nós (no problema 2) é mais ineficiente do que a cifra AESCGM (usada no problema 1).<br>\n",
    "No entanto, podemos ainda, alterando o valor de N, constatar que isto é algo que não acontece sempre, pois, para valores de N mais pequenos, a cifra desenvolvida por nós torna-se mais eficiente. Aliás, se aumentarmos o valor de N, podemos ainda perceber que esta última cifra perde eficiência a um nível exponencial. <br>\n",
    "Apesar da cifra AESCGM ser mais eficiente, podem existir casos em que a eficiência nao seja o mais importante, sendo que, nesses, a cifra desenvolvida no problema 2 é mais adequada. <br>\n",
    "No segundo algoritmo, podemos considerar que a geração do *par* pode ser um *bottleneck*, enquanto que no primeiro se pode considerar como *bottleneck* o facto de, no Emitter, ser necessário gerar uma chave por cada mensagem, assim como o seu código de autenticação e ainda cifrar o criptograma e, no Receiver, ainda o trabalho adicional de autenticar a chave que foi recebida na mensagem."
   ]
  }
 ],
 "metadata": {
  "interpreter": {
   "hash": "b0fa6594d8f4cbf19f97940f81e996739fb7646882a419484c72d19e05852a7e"
  },
  "kernelspec": {
   "display_name": "Python 3.9.10 64-bit",
   "language": "python",
   "name": "python3"
  },
  "language_info": {
   "codemirror_mode": {
    "name": "ipython",
    "version": 3
   },
   "file_extension": ".py",
   "mimetype": "text/x-python",
   "name": "python",
   "nbconvert_exporter": "python",
   "pygments_lexer": "ipython3",
   "version": "3.9.10"
  },
  "orig_nbformat": 4
 },
 "nbformat": 4,
 "nbformat_minor": 2
}
